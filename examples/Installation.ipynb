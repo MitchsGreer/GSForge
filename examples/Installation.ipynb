{
 "cells": [
  {
   "cell_type": "markdown",
   "metadata": {
    "collapsed": true,
    "pycharm": {
     "name": "#%% md\n"
    }
   },
   "source": [
    "*Note:* This project is under active development.\n",
    "\n",
    "## Installation\n",
    "\n",
    "`GEMprospector` works with Python 3.6+.\n",
    "It is currently only tested on Linux.\n",
    "\n",
    "### From Github\n",
    "\n",
    "***Clone the repository.***\n",
    "\n",
    "```bash\n",
    "git clone git@github.com:SystemsGenetics/GEMprospector.git\n",
    "```\n",
    "\n",
    "***Install via local pip:***\n",
    "\n",
    "```bash\n",
    "pip install ./gemprospector/\n",
    "```\n",
    "\n",
    "### Using a Docker Image\n",
    "\n",
    "\n"
   ]
  }
 ],
 "metadata": {
  "kernelspec": {
   "display_name": "Python 3",
   "language": "python",
   "name": "python3"
  },
  "language_info": {
   "codemirror_mode": {
    "name": "ipython",
    "version": 2
   },
   "file_extension": ".py",
   "mimetype": "text/x-python",
   "name": "python",
   "nbconvert_exporter": "python",
   "pygments_lexer": "ipython2",
   "version": "2.7.6"
  },
  "pycharm": {
   "stem_cell": {
    "cell_type": "raw",
    "source": [],
    "metadata": {
     "collapsed": false
    }
   }
  }
 },
 "nbformat": 4,
 "nbformat_minor": 0
}