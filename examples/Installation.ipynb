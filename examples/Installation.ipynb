{
 "cells": [
  {
   "cell_type": "markdown",
   "metadata": {
    "pycharm": {
     "name": "#%% md\n"
    }
   },
   "source": [
    "*Note:* This project is under active development.\n",
    "\n",
    "## Installation\n",
    "\n",
    "`GSForge` works with Python 3.6+.\n",
    "It is currently only tested on Linux.\n",
    "\n",
    "### From Github\n",
    "\n",
    "***Clone the repository.***\n",
    "\n",
    "```bash\n",
    "git clone git@github.com:SystemsGenetics/GSForge.git\n",
    "```\n",
    "\n",
    "***Install via local pip:***\n",
    "\n",
    "```bash\n",
    "pip install ./gsforge/\n",
    "```"
   ]
  },
  {
   "cell_type": "markdown",
   "metadata": {},
   "source": [
    "---"
   ]
  }
 ],
 "metadata": {
  "kernelspec": {
   "display_name": "Python (base)",
   "language": "python",
   "name": "python3"
  },
  "language_info": {
   "codemirror_mode": {
    "name": "ipython",
    "version": 3
   },
   "file_extension": ".py",
   "mimetype": "text/x-python",
   "name": "python",
   "nbconvert_exporter": "python",
   "pygments_lexer": "ipython3",
   "version": "3.7.3"
  },
  "pycharm": {
   "stem_cell": {
    "cell_type": "raw",
    "source": [],
    "metadata": {
     "collapsed": false
    }
   }
  }
 },
 "nbformat": 4,
 "nbformat_minor": 4
}