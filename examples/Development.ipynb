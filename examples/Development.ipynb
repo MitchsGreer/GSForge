{
 "cells": [
  {
   "cell_type": "markdown",
   "metadata": {
    "pycharm": {
     "name": "#%% md\n"
    }
   },
   "source": [
    "### Travis CI\n",
    "\n",
    "...\n",
    "\n",
    "### nbsite & Documentation\n",
    "\n",
    "You can test if all of the example notebooks run with [nbsmoke](https://github.com/pyviz-dev/nbsmoke) (this is what the travis ci will do) to check if they all run.\n",
    "\n",
    "```bash\n",
    "pytest --nbsmoke-run examples/*.ipynb\n",
    "```\n",
    "\n",
    "### Docker Images\n",
    "\n",
    "\n"
   ]
  },
  {
   "cell_type": "code",
   "execution_count": null,
   "metadata": {},
   "outputs": [],
   "source": []
  }
 ],
 "metadata": {
  "kernelspec": {
   "display_name": "Python (base)",
   "language": "python",
   "name": "python3"
  },
  "language_info": {
   "codemirror_mode": {
    "name": "ipython",
    "version": 3
   },
   "file_extension": ".py",
   "mimetype": "text/x-python",
   "name": "python",
   "nbconvert_exporter": "python",
   "pygments_lexer": "ipython3",
   "version": "3.7.3"
  },
  "pycharm": {
   "stem_cell": {
    "cell_type": "raw",
    "metadata": {
     "collapsed": false
    },
    "source": []
   }
  }
 },
 "nbformat": 4,
 "nbformat_minor": 4
}
