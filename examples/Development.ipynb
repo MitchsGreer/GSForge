{
 "cells": [
  {
   "cell_type": "markdown",
   "metadata": {
    "pycharm": {
     "name": "#%% md\n"
    }
   },
   "source": [
    "### Travis CI\n",
    "\n",
    "Travis CI is activated upon every push to the master branch.\n",
    "Then, via the `.travis.yml` file:\n",
    "+ Demo data is updated if needed.\n",
    "+ The dockerfiles are built and pushed if the package installs correctly.\n",
    "+ The notebook files are tested, and if no cells fail to run the documentation is updated.\n",
    "\n",
    "### nbsite & Documentation\n",
    "\n",
    "You can test if all of the example notebooks run with [nbsmoke](https://github.com/pyviz-dev/nbsmoke) (this is what the travis ci will do) to check if they all run.\n",
    "\n",
    "```bash\n",
    "pytest --nbsmoke-run examples/*.ipynb\n",
    "pytest --nbsmoke-run examples/user_guide/*.ipynb\n",
    "pytest --nbsmoke-run examples/user_guide/plotting_guide/*.ipynb\n",
    "\n",
    "```\n",
    "\n",
    "The documentation is built using travis ci integration.\n",
    "\n",
    "### Using Docker\n",
    "\n",
    "The docker images used by `GSForge` are based on the [Jupyter Docker Stacks](https://jupyter-docker-stacks.readthedocs.io/en/latest/index.html).\n",
    "\n",
    "***Update the image***\n",
    "```bash\n",
    "docker pull systemsgenetics/gemprospector_interactive:latest\n",
    "```\n",
    "\n",
    "To run `GSForge` using a jupyter notebook from a docker image:\n",
    "\n",
    "\n",
    "***Jupyter Lab***\n",
    "\n",
    "\n",
    "```bash\n",
    "docker run --rm -p 10000:8888 -e JUPYTER_ENABLE_LAB=yes -v \"$PWD\":/home/jovyan/work systemsgenetics/gemprospector_interactive:latest\n",
    "```\n",
    "\n",
    "***Jupyter Notebook***\n",
    "\n",
    "```bash\n",
    "docker run -p 8888:8888 -v \"$PWD\":/home/jovyan/work systemsgenetics/gemprospector_interactive:latest\n",
    "```\n",
    "\n",
    "Both of the above commands mount the local directory to the `\"/home/jovyan/work\"` within the docker image."
   ]
  },
  {
   "cell_type": "markdown",
   "metadata": {},
   "source": [
    "---"
   ]
  }
 ],
 "metadata": {
  "kernelspec": {
   "display_name": "Python (base)",
   "language": "python",
   "name": "python3"
  },
  "language_info": {
   "codemirror_mode": {
    "name": "ipython",
    "version": 3
   },
   "file_extension": ".py",
   "mimetype": "text/x-python",
   "name": "python",
   "nbconvert_exporter": "python",
   "pygments_lexer": "ipython3",
   "version": "3.7.3"
  },
  "pycharm": {
   "stem_cell": {
    "cell_type": "raw",
    "metadata": {
     "collapsed": false
    },
    "source": []
   }
  }
 },
 "nbformat": 4,
 "nbformat_minor": 4
}
