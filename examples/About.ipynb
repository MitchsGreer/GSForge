{
 "cells": [
  {
   "cell_type": "markdown",
   "metadata": {
    "collapsed": true,
    "pycharm": {
     "name": "#%% md\n"
    }
   },
   "source": [
    "## About GeneSelector\n",
    "\n",
    "*GeneSelector* helps manage and compare gene (feature) selection methods for RNA-Seq data.\n",
    "It provides a framework of tools that assist in the collection, management and comparisson of feature selection results.\n",
    "\n",
    "\n",
    "Constructed primarily from [NumFOCUS](https://numfocus.org/) projects, and the core pieces of *GeneSelector* are:\n",
    "+ Core data models that use `xarray` and the `netcdf` storage format.\n",
    "+ Interactive visualizations using `Holoviews` and `Datashader`.\n",
    "+ Feature selection workflows via `nextflow`.\n",
    "\n",
    "---"
   ]
  },
  {
   "cell_type": "markdown",
   "source": [
    "### Why use GeneSelector?\n",
    "\n",
    "You should consider using *GeneSelector* when:\n",
    "\n",
    "+ You have more than one feature selection method to use.\n",
    "+ You have more than one normalization to explore.\n",
    "+ You have more than one set of annotation or label files.\n",
    "+ You have a feature selection method that is non-deterministic.\n",
    "\n",
    "And you should seriously consider using *GeneSelector* if you find yourself in more than one of the above categories.\n",
    "\n",
    "---"
   ],
   "metadata": {
    "collapsed": false
   }
  },
  {
   "cell_type": "markdown",
   "source": [
    "### About the Ficklin Lab\n",
    "\n",
    "The Ficklin Lab in the Dept. of Horticulture at Washington State University is a computational dry lab dedicated to the creation of software tools, computational approaches and systems-level models that address basic and applied hypothesis at the molecular-level of agricultural systems.\n",
    "\n",
    "[Ficklin Laboratory](http://ficklinlab.cahnrs.wsu.edu/)"
   ],
   "metadata": {
    "collapsed": false
   }
  },
  {
   "cell_type": "markdown",
   "source": [
    "---"
   ],
   "metadata": {
    "collapsed": false
   }
  }
 ],
 "metadata": {
  "kernelspec": {
   "display_name": "Python 3",
   "language": "python",
   "name": "python3"
  },
  "language_info": {
   "codemirror_mode": {
    "name": "ipython",
    "version": 2
   },
   "file_extension": ".py",
   "mimetype": "text/x-python",
   "name": "python",
   "nbconvert_exporter": "python",
   "pygments_lexer": "ipython2",
   "version": "2.7.6"
  },
  "pycharm": {
   "stem_cell": {
    "cell_type": "raw",
    "source": [],
    "metadata": {
     "collapsed": false
    }
   }
  }
 },
 "nbformat": 4,
 "nbformat_minor": 0
}