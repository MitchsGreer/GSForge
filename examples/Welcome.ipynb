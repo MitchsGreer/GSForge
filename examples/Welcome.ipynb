{
 "cells": [
  {
   "cell_type": "markdown",
   "metadata": {},
   "source": [
    "Welcome to the **GSForge** documentation!\n",
    "\n",
    "*GSForge* is a Python package for condition-specific gene set selection, comparison, quality assessment and visualization for traditional and machine learning approaches to gene expression matrix analysis.\n",
    "\n",
    "*GSForge* can be used in several ways:\n",
    "\n",
    "<img src=\"assets/GSForge_Overview.svg\" alt=\"GSForge Flowchart\" width=\"750\"/>\n",
    "\n",
    "### Tutorial Links\n",
    "\n",
    "+ [User Guide](user_guide/index)\n",
    "+ [Plotting Guide](user_guide/plotting_guide/index)\n",
    "+ [Workflow Guide](user_guide/workflow_guide/index)\n",
    "\n",
    "---"
   ]
  }
 ],
 "metadata": {
  "kernelspec": {
   "display_name": "",
   "name": ""
  },
  "language_info": {
   "name": ""
  },
  "pycharm": {
   "stem_cell": {
    "cell_type": "raw",
    "source": [],
    "metadata": {
     "collapsed": false
    }
   }
  }
 },
 "nbformat": 4,
 "nbformat_minor": 4
}