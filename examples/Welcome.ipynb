{
 "cells": [
  {
   "cell_type": "markdown",
   "metadata": {},
   "source": [
    "Welcome to the **GSForge** documentation!\n",
    "\n",
    "*GSForge* is a Python package for condition-specific gene set selection, comparison, quality assessment and visualization for traditional and machine learning approaches to gene expression matrix analysis.\n",
    "\n",
    "<img src=\"assets/GSForge_Overview.svg\" alt=\"GSForge Flowchart\" width=\"750\"/>\n",
    "\n",
    "### Tutorial Links\n",
    "\n",
    "+ [User Guide](user_guide/index)\n",
    "+ [Plotting Guide](user_guide/plotting_guide/index)\n",
    "+ [Workflow Guide](user_guide/workflow_guide/index)\n",
    "\n",
    "---"
   ]
  }
 ],
 "metadata": {
  "kernelspec": {
   "display_name": "Python (base)",
   "language": "python",
   "name": "python3"
  },
  "language_info": {
   "codemirror_mode": {
    "name": "ipython",
    "version": 3
   },
   "file_extension": ".py",
   "mimetype": "text/x-python",
   "name": "python",
   "nbconvert_exporter": "python",
   "pygments_lexer": "ipython3",
   "version": "3.7.3"
  },
  "pycharm": {
   "stem_cell": {
    "cell_type": "raw",
    "metadata": {
     "collapsed": false
    },
    "source": []
   }
  }
 },
 "nbformat": 4,
 "nbformat_minor": 4
}
