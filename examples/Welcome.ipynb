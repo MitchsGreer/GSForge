{
 "cells": [
  {
   "cell_type": "markdown",
   "metadata": {
    "pycharm": {
     "is_executing": false,
     "name": "#%% md\n"
    }
   },
   "source": [
    "Welcome to the **GSForge** documentation!\n",
    "\n",
    "*GSForge* is a Python package for condition-specific gene set selection, comparison, quality assessment and visualization for traditional and machine learning approaches to gene expression matrix analysis.\n",
    "\n",
    "\n",
    "*GSForge* can be used in several ways and places in the analysis workflow per this flowchart:\n",
    "\n",
    "![GSForge Flowchart](../doc/_static/GSForge_flowchart.svg)\n",
    "\n",
    "Note:\n",
    "+ Functions and models provided by *GSForge* are noted in **bold**.\n",
    "+ Tutorials and examples provided by these docs are denoted with a star.\n",
    "\n",
    "\n",
    "\n",
    "### Tutorial Links\n",
    "\n",
    "+ [User Guide](user_guide/index)\n",
    "    + [Creating an AnnotatedGEM](user_guide/Creating_an_AnnotatedGEM)\n",
    "    + [Selecting Genes with Boruta]()\n",
    "    + [Storing DESeq2 results as a GeneSet]()\n",
    "    + [Storing EdgeR results as a GeneSet]()\n",
    "    + [GeneSet Quality Assesment]()\n",
    "    + [Plotting Guide]()\n",
    "\n",
    "---"
   ]
  },
  {
   "cell_type": "code",
   "execution_count": null,
   "metadata": {},
   "outputs": [],
   "source": []
  }
 ],
 "metadata": {
  "kernelspec": {
   "display_name": "PyCharm (GeneProspector)",
   "language": "python",
   "name": "pycharm-a2e699d4"
  },
  "language_info": {
   "codemirror_mode": {
    "name": "ipython",
    "version": 3
   },
   "file_extension": ".py",
   "mimetype": "text/x-python",
   "name": "python",
   "nbconvert_exporter": "python",
   "pygments_lexer": "ipython3",
   "version": "3.7.3"
  },
  "pycharm": {
   "stem_cell": {
    "cell_type": "raw",
    "metadata": {
     "collapsed": false
    },
    "source": []
   }
  }
 },
 "nbformat": 4,
 "nbformat_minor": 4
}
