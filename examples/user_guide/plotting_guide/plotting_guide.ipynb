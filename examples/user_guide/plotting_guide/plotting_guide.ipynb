{
 "cells": [
  {
   "cell_type": "markdown",
   "metadata": {},
   "source": [
    "[**Sample-wise Distributions**](Samplewise_Distributions.ipynb)\n",
    "> Distribution of count values on a sample-wise basis.\n",
    "\n",
    "[**GeneSet Overlap Heatmaps**](GeneSet_Overlap_Heatmaps.ipynb)\n",
    "> GeneSetCollection overlaps, and tips on viewing collection vs collection overlaps.\n",
    "\n",
    "[**Gene-wise Scatter Plots**](Genewise_Scatter_and_Distributions.ipynb)\n",
    "> Scatter plots of aggregations of gene values, e.g. mean vs variance, fano, frequency, etc. plots.\n",
    "\n",
    "[**UMAP Guide**](UMAP_Panels_and_views.ipynb)\n",
    "> Using the UMAP panel tool."
   ]
  }
 ],
 "metadata": {
  "kernelspec": {
   "display_name": "Python (base)",
   "language": "python",
   "name": "python3"
  },
  "language_info": {
   "codemirror_mode": {
    "name": "ipython",
    "version": 3
   },
   "file_extension": ".py",
   "mimetype": "text/x-python",
   "name": "python",
   "nbconvert_exporter": "python",
   "pygments_lexer": "ipython3",
   "version": "3.7.3"
  }
 },
 "nbformat": 4,
 "nbformat_minor": 4
}
