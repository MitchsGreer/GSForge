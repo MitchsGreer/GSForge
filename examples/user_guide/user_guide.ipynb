{
 "cells": [
  {
   "cell_type": "markdown",
   "metadata": {},
   "source": [
    "[**Creating an AnnotatedGEM**](Creating_an_AnnotatedGEM.ipynb)\n",
    "> How to load your count and label .csv or .txt files into an `xarray.Dataset` using `GSForge`, and save them as a single netcdf (.nc) file for future use.\n",
    "\n",
    "[**Selecting Genes with Boruta and Random Forests**](Selecting_Genes_with_Boruta.ipynb)\n",
    "> How to run a basic gene (feature) selection using random forests and the boruta all-relavent feature selection algorithm.\n",
    "\n",
    "[**GeneSet Analysis**](GeneSet_Analysis.ipynb)\n",
    "> How to score a set of genes, or rank amongst them, using machine learning models.\n",
    "\n",
    "[**Interface Guide**](Interface_Guide.ipynb)\n",
    "> Understanding how the `GSForge.Interface` class, which is the base of most of the `GSForge` API, selects and returns data.\n",
    "\n",
    "[**Normalizing GEMs**](GEM_Normalization.ipynb)\n",
    "> How to run and (optionally) save different normalizations to the same `AnnotatedGEM` object."
   ]
  }
 ],
 "metadata": {
  "kernelspec": {
   "display_name": "Python (base)",
   "language": "python",
   "name": "python3"
  },
  "language_info": {
   "codemirror_mode": {
    "name": "ipython",
    "version": 3
   },
   "file_extension": ".py",
   "mimetype": "text/x-python",
   "name": "python",
   "nbconvert_exporter": "python",
   "pygments_lexer": "ipython3",
   "version": "3.7.3"
  }
 },
 "nbformat": 4,
 "nbformat_minor": 4
}
