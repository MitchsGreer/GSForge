{
 "cells": [
  {
   "cell_type": "markdown",
   "metadata": {},
   "source": [
    "To begin using **GSForege** you will want to get your data into the `AnnotatedGEM` object.\n",
    "How you choose to do this depends on the state of your data.\n",
    "\n",
    "[**Creating an AnnotatedGEM from text files**](AnnotatedGEM_from_pandas.ipynb)\n",
    "> How to load your count and label .csv or .txt files into an `xarray.Dataset` using `GSForge`, and save them as a single netcdf (.nc) file for future use.\n",
    "\n",
    "Once the count matrix and annotations have been stored in an AnnotatedGEM object, you can begin selecting genes.\n",
    "\n",
    "[**Selecting Genes with Boruta and Random Forests**](Selecting_Genes_with_Boruta.ipynb)\n",
    "> How to run a basic gene (feature) selection using random forests and the boruta all-relavent feature selection algorithm.\n",
    "\n",
    "Given some set of genes, how can we infer their quality? \n",
    "One way is to feed that reduced set into a machine learning model, and score the output.\n",
    "\n",
    "[**GeneSet Analysis**](GeneSet_Analysis.ipynb)\n",
    "> How to score a set of genes, or rank amongst them, using machine learning models.\n",
    "\n",
    "Raw counts are not always desired.\n",
    "`GSForge` allows you to store multiple 'versions' of the count matrix in a single `AnnotatedGEM` object.\n",
    "\n",
    "[**Normalizing GEMs**](GEM_Normalization.ipynb)\n",
    "> How to run and (optionally) save different normalizations to the same `AnnotatedGEM` object."
   ]
  },
  {
   "cell_type": "markdown",
   "metadata": {},
   "source": [
    "---"
   ]
  }
 ],
 "metadata": {
  "kernelspec": {
   "display_name": "Python (base)",
   "language": "python",
   "name": "python3"
  },
  "language_info": {
   "codemirror_mode": {
    "name": "ipython",
    "version": 3
   },
   "file_extension": ".py",
   "mimetype": "text/x-python",
   "name": "python",
   "nbconvert_exporter": "python",
   "pygments_lexer": "ipython3",
   "version": "3.7.3"
  },
  "pycharm": {
   "stem_cell": {
    "cell_type": "raw",
    "source": [],
    "metadata": {
     "collapsed": false
    }
   }
  }
 },
 "nbformat": 4,
 "nbformat_minor": 4
}