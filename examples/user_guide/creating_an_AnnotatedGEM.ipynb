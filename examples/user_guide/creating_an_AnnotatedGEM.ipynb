{
 "cells": [
  {
   "cell_type": "markdown",
   "metadata": {
    "collapsed": true,
    "pycharm": {
     "name": "#%% md\n"
    }
   },
   "source": [
    "Creating an `AnnotatedGEM` involves wrangling data from (at least) two sources:\n",
    "\n",
    "+ The gene expression (or count) matrix.\n",
    "+ Annotation or label files.\n",
    "\n",
    "You will need to provide a gene expression matrix (GEM), that has the same sample index as the annotation data.\n",
    "\n",
    "This notebook will also cover how to go about adding different normalizations, and adding gene lengths.\n",
    "\n",
    "---\n",
    "\n",
    "**On Sourcing a Gene Expression Matrix and Annotations**\n",
    "\n",
    "How exactly get from an RNA-Sequencing experiment to a count matrix is beyond the scope of this tutorial.\n",
    "See the [GEMMaker package](https://gemmaker.readthedocs.io/en/latest/) for a workflow made by the [Ficklin Laboratory](http://ficklinlab.cahnrs.wsu.edu/).\n",
    "\n",
    "---"
   ]
  },
  {
   "cell_type": "markdown",
   "source": [
    "***Setting up the notebook:***"
   ],
   "metadata": {
    "collapsed": false
   }
  },
  {
   "cell_type": "code",
   "execution_count": 1,
   "outputs": [],
   "source": [
    "import pandas as pd\n",
    "import GEMprospector as gp"
   ],
   "metadata": {
    "collapsed": false,
    "pycharm": {
     "name": "#%%\n",
     "is_executing": false
    }
   }
  },
  {
   "cell_type": "markdown",
   "source": [
    "---\n",
    "\n",
    "## The `GeneSelector.AnnotatedGEM` Object\n",
    "\n",
    "Contains the gene expression matrix, which is indexed by a 'Gene'\n",
    "and 'Sample' coordinates. This `xarray.Dataset` object also contains\n",
    "(but is not limited to) phenotype information as well.\n",
    "\n",
    "As with all Python objects, we can view their doc-strings via:\n",
    "\n",
    "```python\n",
    "object?\n",
    "# Or:\n",
    "help(object)\n",
    "```"
   ],
   "metadata": {
    "collapsed": false,
    "pycharm": {
     "name": "#%% md\n"
    }
   }
  },
  {
   "cell_type": "code",
   "execution_count": 2,
   "outputs": [],
   "source": [
    "gp.AnnotatedGEM?"
   ],
   "metadata": {
    "collapsed": false,
    "pycharm": {
     "name": "#%%\n",
     "is_executing": false
    }
   }
  },
  {
   "cell_type": "markdown",
   "source": [
    "## Creating an `AnnotatedGEM`\n",
    "\n",
    "For basic creation you can pass one of the following to created an `AnnotatedGEM`:\n",
    "+ a filepath to a netcdf file -- usually a previously created (and saved) `AnnotatedGEM`.\n",
    "+ an xarray dataset -- usually user created.\n",
    "+ a pair of `pandas.DataFrame` objects (counts and labels).\n",
    "\n",
    "Essentially we need to create an 'xarray.Dataset` object that contains all the data we care about.\n",
    "For most users the simplest approach will be to prepare two `pandas.DataFrame` ojbects that have the samples\n",
    "either aligned or appropriately indexed.\n",
    "\n",
    "`GEMprospector` comes with some helper functions to assist in this process. "
   ],
   "metadata": {
    "collapsed": false,
    "pycharm": {
     "name": "#%% md\n"
    }
   }
  },
  {
   "cell_type": "markdown",
   "source": [
    "***Declaring paths used:***"
   ],
   "metadata": {
    "collapsed": false,
    "pycharm": {
     "name": "#%% md\n"
    }
   }
  },
  {
   "cell_type": "code",
   "execution_count": 3,
   "outputs": [],
   "source": [
    "COUNTS = \"~/GEMprospector_demo_data/rice_heat_drought.GEM.raw.txt\"\n",
    "LABELS = \"~/GEMprospector_demo_data/srx_sample_annots.txt\"\n",
    "GFF3 = \"~/GEMprospector_demo_data/all.gff3\""
   ],
   "metadata": {
    "collapsed": false,
    "pycharm": {
     "name": "#%%\n",
     "is_executing": false
    }
   }
  },
  {
   "cell_type": "markdown",
   "source": [
    "## Creating an `AnnotatedGEM` from `pandas.DataFrame`\n",
    "\n",
    "Presented here is a typical walkthrough of creating an `AnnotatedGEM` from several raw data file.\n",
    "If the indexes used between your files differ, you should have a plan on how they should be aligned\n",
    "before starting.\n",
    "\n",
    "***Load the GEM data:***\n",
    "\n",
    "First we will need to read in the count matrix, and any annotation files we wish to work with.\n",
    "In the case of GEM files from the GEMMaker software, we can expect them to be tab-delimited."
   ],
   "metadata": {
    "collapsed": false,
    "pycharm": {
     "name": "#%% md\n"
    }
   }
  },
  {
   "cell_type": "code",
   "source": [
    "# Test loading the data.\n",
    "pd.read_csv(COUNTS, sep=\"\\t\", index_col=0).head()"
   ],
   "metadata": {
    "collapsed": false,
    "pycharm": {
     "name": "#%%\n",
     "is_executing": false
    }
   },
   "execution_count": 4,
   "outputs": [
    {
     "data": {
      "text/plain": "                SRX1423934  SRX1423935  SRX1423936  SRX1423937  SRX1423938  \\\nLOC_Os06g05820          20           2          22          11          23   \nLOC_Os10g27460           0           0           0           0           0   \nLOC_Os02g35980           0           0           0           0           0   \nLOC_Os09g23260           0           0           0           0           0   \nLOC_Os01g41670           0           0           0           0           0   \n\n                SRX1423939  SRX1423940  SRX1423941  SRX1423942  SRX1423943  \\\nLOC_Os06g05820          39          24          34          33          20   \nLOC_Os10g27460           0           0           0           0           0   \nLOC_Os02g35980           0           0           0           0           0   \nLOC_Os09g23260           0           0           0           0           0   \nLOC_Os01g41670           0           0           0           0           0   \n\n                ...  SRX1424399  SRX1424400  SRX1424401  SRX1424402  \\\nLOC_Os06g05820  ...           5          20          20          38   \nLOC_Os10g27460  ...           0           0           0           0   \nLOC_Os02g35980  ...           0           0           0           0   \nLOC_Os09g23260  ...           0           0           0           0   \nLOC_Os01g41670  ...           0           0           0           2   \n\n                SRX1424403  SRX1424404  SRX1424405  SRX1424406  SRX1424407  \\\nLOC_Os06g05820          35          43          25           8           8   \nLOC_Os10g27460           0           0           0           0           0   \nLOC_Os02g35980           0           0           0           0           0   \nLOC_Os09g23260           0           0           0           0           0   \nLOC_Os01g41670           0           0           0           0           0   \n\n                SRX1424408  \nLOC_Os06g05820          21  \nLOC_Os10g27460           0  \nLOC_Os02g35980           0  \nLOC_Os09g23260           0  \nLOC_Os01g41670           0  \n\n[5 rows x 475 columns]",
      "text/html": "<div>\n<style scoped>\n    .dataframe tbody tr th:only-of-type {\n        vertical-align: middle;\n    }\n\n    .dataframe tbody tr th {\n        vertical-align: top;\n    }\n\n    .dataframe thead th {\n        text-align: right;\n    }\n</style>\n<table border=\"1\" class=\"dataframe\">\n  <thead>\n    <tr style=\"text-align: right;\">\n      <th></th>\n      <th>SRX1423934</th>\n      <th>SRX1423935</th>\n      <th>SRX1423936</th>\n      <th>SRX1423937</th>\n      <th>SRX1423938</th>\n      <th>SRX1423939</th>\n      <th>SRX1423940</th>\n      <th>SRX1423941</th>\n      <th>SRX1423942</th>\n      <th>SRX1423943</th>\n      <th>...</th>\n      <th>SRX1424399</th>\n      <th>SRX1424400</th>\n      <th>SRX1424401</th>\n      <th>SRX1424402</th>\n      <th>SRX1424403</th>\n      <th>SRX1424404</th>\n      <th>SRX1424405</th>\n      <th>SRX1424406</th>\n      <th>SRX1424407</th>\n      <th>SRX1424408</th>\n    </tr>\n  </thead>\n  <tbody>\n    <tr>\n      <td>LOC_Os06g05820</td>\n      <td>20</td>\n      <td>2</td>\n      <td>22</td>\n      <td>11</td>\n      <td>23</td>\n      <td>39</td>\n      <td>24</td>\n      <td>34</td>\n      <td>33</td>\n      <td>20</td>\n      <td>...</td>\n      <td>5</td>\n      <td>20</td>\n      <td>20</td>\n      <td>38</td>\n      <td>35</td>\n      <td>43</td>\n      <td>25</td>\n      <td>8</td>\n      <td>8</td>\n      <td>21</td>\n    </tr>\n    <tr>\n      <td>LOC_Os10g27460</td>\n      <td>0</td>\n      <td>0</td>\n      <td>0</td>\n      <td>0</td>\n      <td>0</td>\n      <td>0</td>\n      <td>0</td>\n      <td>0</td>\n      <td>0</td>\n      <td>0</td>\n      <td>...</td>\n      <td>0</td>\n      <td>0</td>\n      <td>0</td>\n      <td>0</td>\n      <td>0</td>\n      <td>0</td>\n      <td>0</td>\n      <td>0</td>\n      <td>0</td>\n      <td>0</td>\n    </tr>\n    <tr>\n      <td>LOC_Os02g35980</td>\n      <td>0</td>\n      <td>0</td>\n      <td>0</td>\n      <td>0</td>\n      <td>0</td>\n      <td>0</td>\n      <td>0</td>\n      <td>0</td>\n      <td>0</td>\n      <td>0</td>\n      <td>...</td>\n      <td>0</td>\n      <td>0</td>\n      <td>0</td>\n      <td>0</td>\n      <td>0</td>\n      <td>0</td>\n      <td>0</td>\n      <td>0</td>\n      <td>0</td>\n      <td>0</td>\n    </tr>\n    <tr>\n      <td>LOC_Os09g23260</td>\n      <td>0</td>\n      <td>0</td>\n      <td>0</td>\n      <td>0</td>\n      <td>0</td>\n      <td>0</td>\n      <td>0</td>\n      <td>0</td>\n      <td>0</td>\n      <td>0</td>\n      <td>...</td>\n      <td>0</td>\n      <td>0</td>\n      <td>0</td>\n      <td>0</td>\n      <td>0</td>\n      <td>0</td>\n      <td>0</td>\n      <td>0</td>\n      <td>0</td>\n      <td>0</td>\n    </tr>\n    <tr>\n      <td>LOC_Os01g41670</td>\n      <td>0</td>\n      <td>0</td>\n      <td>0</td>\n      <td>0</td>\n      <td>0</td>\n      <td>0</td>\n      <td>0</td>\n      <td>0</td>\n      <td>0</td>\n      <td>0</td>\n      <td>...</td>\n      <td>0</td>\n      <td>0</td>\n      <td>0</td>\n      <td>2</td>\n      <td>0</td>\n      <td>0</td>\n      <td>0</td>\n      <td>0</td>\n      <td>0</td>\n      <td>0</td>\n    </tr>\n  </tbody>\n</table>\n<p>5 rows × 475 columns</p>\n</div>"
     },
     "metadata": {},
     "output_type": "execute_result",
     "execution_count": 4
    }
   ]
  },
  {
   "cell_type": "code",
   "execution_count": 5,
   "outputs": [
    {
     "name": "stdout",
     "text": [
      "CPU times: user 2.2 s, sys: 169 ms, total: 2.37 s\nWall time: 2.38 s\n"
     ],
     "output_type": "stream"
    }
   ],
   "source": [
    "%%time\n",
    "count_df = pd.read_csv(COUNTS, sep=\"\\t\", index_col=0)\n"
   ],
   "metadata": {
    "collapsed": false,
    "pycharm": {
     "name": "#%%\n",
     "is_executing": false
    }
   }
  },
  {
   "cell_type": "markdown",
   "source": [
    "***Load the label data:***\n",
    "\n",
    "*In this case we have previously wrangled this annotation file, which was sourced from\n",
    "[https://doi.org/10.1105/tpc.16.00158](https://doi.org/10.1105/tpc.16.00158).*"
   ],
   "metadata": {
    "collapsed": false
   }
  },
  {
   "cell_type": "code",
   "execution_count": 6,
   "outputs": [
    {
     "data": {
      "text/plain": "             SampleSRR Treatment  Time Tissue Genotype Subspecies\nSample                                                           \nSRX1423934  SRR2931040   CONTROL    15   leaf       AZ   Japonica\nSRX1423935  SRR2931041   CONTROL    15   leaf       AZ   Japonica\nSRX1423936  SRR2931042   CONTROL    30   leaf       AZ   Japonica\nSRX1423937  SRR2931043   CONTROL    30   leaf       AZ   Japonica\nSRX1423938  SRR2931044   CONTROL    45   leaf       AZ   Japonica",
      "text/html": "<div>\n<style scoped>\n    .dataframe tbody tr th:only-of-type {\n        vertical-align: middle;\n    }\n\n    .dataframe tbody tr th {\n        vertical-align: top;\n    }\n\n    .dataframe thead th {\n        text-align: right;\n    }\n</style>\n<table border=\"1\" class=\"dataframe\">\n  <thead>\n    <tr style=\"text-align: right;\">\n      <th></th>\n      <th>SampleSRR</th>\n      <th>Treatment</th>\n      <th>Time</th>\n      <th>Tissue</th>\n      <th>Genotype</th>\n      <th>Subspecies</th>\n    </tr>\n    <tr>\n      <th>Sample</th>\n      <th></th>\n      <th></th>\n      <th></th>\n      <th></th>\n      <th></th>\n      <th></th>\n    </tr>\n  </thead>\n  <tbody>\n    <tr>\n      <td>SRX1423934</td>\n      <td>SRR2931040</td>\n      <td>CONTROL</td>\n      <td>15</td>\n      <td>leaf</td>\n      <td>AZ</td>\n      <td>Japonica</td>\n    </tr>\n    <tr>\n      <td>SRX1423935</td>\n      <td>SRR2931041</td>\n      <td>CONTROL</td>\n      <td>15</td>\n      <td>leaf</td>\n      <td>AZ</td>\n      <td>Japonica</td>\n    </tr>\n    <tr>\n      <td>SRX1423936</td>\n      <td>SRR2931042</td>\n      <td>CONTROL</td>\n      <td>30</td>\n      <td>leaf</td>\n      <td>AZ</td>\n      <td>Japonica</td>\n    </tr>\n    <tr>\n      <td>SRX1423937</td>\n      <td>SRR2931043</td>\n      <td>CONTROL</td>\n      <td>30</td>\n      <td>leaf</td>\n      <td>AZ</td>\n      <td>Japonica</td>\n    </tr>\n    <tr>\n      <td>SRX1423938</td>\n      <td>SRR2931044</td>\n      <td>CONTROL</td>\n      <td>45</td>\n      <td>leaf</td>\n      <td>AZ</td>\n      <td>Japonica</td>\n    </tr>\n  </tbody>\n</table>\n</div>"
     },
     "metadata": {},
     "output_type": "execute_result",
     "execution_count": 6
    }
   ],
   "source": [
    "pd.read_csv(LABELS, index_col=0).head()"
   ],
   "metadata": {
    "collapsed": false,
    "pycharm": {
     "name": "#%%\n",
     "is_executing": false
    }
   }
  },
  {
   "cell_type": "code",
   "execution_count": 7,
   "outputs": [
    {
     "name": "stdout",
     "text": [
      "CPU times: user 5.23 ms, sys: 215 µs, total: 5.44 ms\nWall time: 5.11 ms\n"
     ],
     "output_type": "stream"
    }
   ],
   "source": [
    "%%time\n",
    "label_df = pd.read_csv(LABELS, index_col=0)"
   ],
   "metadata": {
    "collapsed": false,
    "pycharm": {
     "name": "#%%\n",
     "is_executing": false
    }
   }
  },
  {
   "cell_type": "markdown",
   "source": [
    "***Combine the dataframes into an AnnotatedGEM:***\n",
    "\n",
    "`AnnotatedGEM.from_pandas` does a bit of data wrangling, and loads the data into a single `xarray.Dataset`.\n",
    "Like with using `pandas.read_csv()` it can comforting to do one last check that our data has made it in correctly.\n"
   ],
   "metadata": {
    "collapsed": false,
    "pycharm": {
     "name": "#%% md\n"
    }
   }
  },
  {
   "cell_type": "code",
   "execution_count": 8,
   "outputs": [
    {
     "data": {
      "text/plain": "<xarray.Dataset>\nDimensions:     (Gene: 55986, Sample: 475)\nCoordinates:\n  * Sample      (Sample) object 'SRX1423934' 'SRX1423935' ... 'SRX1424408'\n  * Gene        (Gene) object 'LOC_Os06g05820' ... 'LOC_Os07g03418'\nData variables:\n    SampleSRR   (Sample) object 'SRR2931040' 'SRR2931041' ... 'SRR2931514'\n    Treatment   (Sample) object 'CONTROL' 'CONTROL' ... 'RECOV_DROUGHT'\n    Time        (Sample) int64 15 15 30 30 45 45 60 ... 240 240 270 270 300 300\n    Tissue      (Sample) object 'leaf' 'leaf' 'leaf' ... 'leaf' 'leaf' 'leaf'\n    Genotype    (Sample) object 'AZ' 'AZ' 'AZ' 'AZ' 'AZ' ... 'TD' 'TD' 'TD' 'TD'\n    Subspecies  (Sample) object 'Japonica' 'Japonica' ... 'Indica' 'Indica'\n    counts      (Sample, Gene) int64 20 0 0 0 0 0 200 ... 19 0 52 335 0 666 0\nAttributes:\n    all_labels:  ['SampleSRR', 'Treatment', 'Time', 'Tissue', 'Genotype', 'Su...\n    discrete:    ['SampleSRR', 'Treatment', 'Tissue', 'Genotype', 'Subspecies']\n    continuous:  ['SampleSRR', 'Time']\n    quantile:    ['Treatment', 'Tissue', 'Genotype', 'Subspecies']\n    incomplete:  []"
     },
     "metadata": {},
     "output_type": "execute_result",
     "execution_count": 8
    }
   ],
   "source": [
    "# View the xarray data attribute without assigning the AnnotatedGEM object.\n",
    "gp.AnnotatedGEM.from_pandas(count_df=count_df, label_df=label_df, name=\"Osativa\").data"
   ],
   "metadata": {
    "collapsed": false,
    "pycharm": {
     "name": "#%%\n",
     "is_executing": false
    }
   }
  },
  {
   "cell_type": "code",
   "execution_count": 9,
   "outputs": [
    {
     "data": {
      "text/plain": "<GEMprospector.AnnotatedGEM>\nName: Osativa\nSelected GEM Variable: 'counts'\n    Gene   55986\n    Sample 475"
     },
     "metadata": {},
     "output_type": "execute_result",
     "execution_count": 9
    }
   ],
   "source": [
    "# Now view GEMprospector's summary, ensure the count of samples and genes is correct.\n",
    "gp.AnnotatedGEM.from_pandas(count_df=count_df, label_df=label_df, name=\"Osativa\")"
   ],
   "metadata": {
    "collapsed": false,
    "pycharm": {
     "name": "#%%\n",
     "is_executing": false
    }
   }
  },
  {
   "cell_type": "markdown",
   "source": [
    "## Creating an `AnnotatedGEM` from files\n",
    "\n",
    "If you are fortunate enough to have consistenly formatted data (like the above example) \n",
    "you can directly load your data into an `AnnotatedGEM`.\n",
    "\n",
    "If you do not provide a `sep` argument in the `count_kwargs` or `label_kwargs` dictionaries, \n",
    "*GEMprospector* will attempt to infer it by reading the first line of each file."
   ],
   "metadata": {
    "collapsed": false,
    "pycharm": {
     "name": "#%% md\n"
    }
   }
  },
  {
   "cell_type": "code",
   "execution_count": 10,
   "outputs": [
    {
     "name": "stdout",
     "text": [
      "CPU times: user 6.9 s, sys: 1.42 s, total: 8.32 s\nWall time: 8.35 s\n"
     ],
     "output_type": "stream"
    }
   ],
   "source": [
    "%%time\n",
    "agem = gp.AnnotatedGEM.from_files(\n",
    "    count_path=COUNTS,\n",
    "    label_path=LABELS,\n",
    "    # These are the default arguments passed to from_files,\n",
    "    # to the individual calls to `pandas.read_csv`.\n",
    "    count_kwargs=dict(index_col=0),\n",
    "    label_kwargs=dict(index_col=0),\n",
    ")"
   ],
   "metadata": {
    "collapsed": false,
    "pycharm": {
     "name": "#%%\n",
     "is_executing": false
    }
   }
  },
  {
   "cell_type": "code",
   "execution_count": 11,
   "outputs": [
    {
     "data": {
      "text/plain": "<GEMprospector.AnnotatedGEM>\nName: AnnotatedGEM00002\nSelected GEM Variable: 'counts'\n    Gene   55986\n    Sample 475"
     },
     "metadata": {},
     "output_type": "execute_result",
     "execution_count": 11
    }
   ],
   "source": [
    "agem"
   ],
   "metadata": {
    "collapsed": false,
    "pycharm": {
     "name": "#%%\n",
     "is_executing": false
    }
   }
  },
  {
   "cell_type": "markdown",
   "source": [
    "---\n",
    "\n",
    "## Adding Gene Annotations\n",
    "\n",
    "This form of storing our GEM files also allows for us to store any gene-index properties.\n",
    "An example of this is gene length:"
   ],
   "metadata": {
    "collapsed": false,
    "pycharm": {
     "name": "#%% md\n",
     "is_executing": false
    }
   }
  },
  {
   "cell_type": "code",
   "execution_count": 12,
   "outputs": [
    {
     "data": {
      "text/plain": "  seqname      source feature  start    end score strand frame  \\\n0    Chr1  MSU_osa1r7    gene   2903  10817     .      +     .   \n1    Chr1  MSU_osa1r7    mRNA   2903  10817     .      +     .   \n\n                                           attribute  \n0  ID=LOC_Os01g01010;Name=LOC_Os01g01010;Note=TBC...  \n1  ID=LOC_Os01g01010.1;Name=LOC_Os01g01010.1;Pare...  ",
      "text/html": "<div>\n<style scoped>\n    .dataframe tbody tr th:only-of-type {\n        vertical-align: middle;\n    }\n\n    .dataframe tbody tr th {\n        vertical-align: top;\n    }\n\n    .dataframe thead th {\n        text-align: right;\n    }\n</style>\n<table border=\"1\" class=\"dataframe\">\n  <thead>\n    <tr style=\"text-align: right;\">\n      <th></th>\n      <th>seqname</th>\n      <th>source</th>\n      <th>feature</th>\n      <th>start</th>\n      <th>end</th>\n      <th>score</th>\n      <th>strand</th>\n      <th>frame</th>\n      <th>attribute</th>\n    </tr>\n  </thead>\n  <tbody>\n    <tr>\n      <td>0</td>\n      <td>Chr1</td>\n      <td>MSU_osa1r7</td>\n      <td>gene</td>\n      <td>2903</td>\n      <td>10817</td>\n      <td>.</td>\n      <td>+</td>\n      <td>.</td>\n      <td>ID=LOC_Os01g01010;Name=LOC_Os01g01010;Note=TBC...</td>\n    </tr>\n    <tr>\n      <td>1</td>\n      <td>Chr1</td>\n      <td>MSU_osa1r7</td>\n      <td>mRNA</td>\n      <td>2903</td>\n      <td>10817</td>\n      <td>.</td>\n      <td>+</td>\n      <td>.</td>\n      <td>ID=LOC_Os01g01010.1;Name=LOC_Os01g01010.1;Pare...</td>\n    </tr>\n  </tbody>\n</table>\n</div>"
     },
     "metadata": {},
     "output_type": "execute_result",
     "execution_count": 12
    }
   ],
   "source": [
    "pd.read_csv(GFF3, sep=\"\\t\", comment=\"#\",\n",
    "             names=['seqname', 'source', 'feature', 'start', 'end',\n",
    "                    'score', 'strand', 'frame', 'attribute']).head(2)"
   ],
   "metadata": {
    "collapsed": false,
    "pycharm": {
     "name": "#%%\n",
     "is_executing": false
    }
   }
  },
  {
   "cell_type": "code",
   "execution_count": 13,
   "outputs": [],
   "source": [
    "def extract_gff3_gene_lengths(gff3_file):\n",
    "    \"\"\"A custom function to extract gene lengths.\"\"\"\n",
    "    df = pd.read_csv(gff3_file, sep=\"\\t\", comment=\"#\",\n",
    "                     names=['seqname', 'source', 'feature', 'start', 'end',\n",
    "                            'score', 'strand', 'frame', 'attribute'])\n",
    "    gene_ids = df[\"attribute\"].str.extract(r\"ID=(\\w+)\")\n",
    "    df = df[gene_ids.notna().values]\n",
    "    df['Gene'] = gene_ids\n",
    "    df = df.drop_duplicates(\"Gene\")\n",
    "    df = df.set_index(\"Gene\")\n",
    "    return df[\"end\"] - df[\"start\"]"
   ],
   "metadata": {
    "collapsed": false,
    "pycharm": {
     "name": "#%%\n",
     "is_executing": false
    }
   }
  },
  {
   "cell_type": "code",
   "execution_count": 14,
   "outputs": [],
   "source": [
    "gene_lengths = extract_gff3_gene_lengths(GFF3)"
   ],
   "metadata": {
    "collapsed": false,
    "pycharm": {
     "name": "#%%\n",
     "is_executing": false
    }
   }
  },
  {
   "cell_type": "markdown",
   "source": [
    "Because `gene_lengths` is already (hopefully) indexed correctly, it is trivial to incorporate into our `AnnotatedGEM`."
   ],
   "metadata": {
    "collapsed": false,
    "pycharm": {
     "name": "#%% md\n"
    }
   }
  },
  {
   "cell_type": "code",
   "execution_count": 15,
   "outputs": [],
   "source": [
    "agem.data[\"lengths\"] = gene_lengths"
   ],
   "metadata": {
    "collapsed": false,
    "pycharm": {
     "name": "#%%\n",
     "is_executing": false
    }
   }
  },
  {
   "cell_type": "markdown",
   "source": [
    "---\n",
    "\n",
    "## Saving an `AnnotatedGEM`\n",
    "\n",
    "All the data contained within the `AnnotatedGEM` class is contained within the `xarray.Dataset` object."
   ],
   "metadata": {
    "collapsed": false,
    "pycharm": {
     "name": "#%% md\n"
    }
   }
  },
  {
   "cell_type": "code",
   "execution_count": 17,
   "outputs": [],
   "source": [
    "SAVE = False\n",
    "if SAVE:\n",
    "    agem.save(\"~/GEMprospector_demo_data/osativa.nc\")"
   ],
   "metadata": {
    "collapsed": false,
    "pycharm": {
     "name": "#%%\n",
     "is_executing": false
    }
   }
  }
 ],
 "metadata": {
  "kernelspec": {
   "display_name": "Python 3",
   "language": "python",
   "name": "python3"
  },
  "language_info": {
   "codemirror_mode": {
    "name": "ipython",
    "version": 2
   },
   "file_extension": ".py",
   "mimetype": "text/x-python",
   "name": "python",
   "nbconvert_exporter": "python",
   "pygments_lexer": "ipython2",
   "version": "2.7.6"
  },
  "pycharm": {
   "stem_cell": {
    "cell_type": "raw",
    "source": [],
    "metadata": {
     "collapsed": false
    }
   }
  }
 },
 "nbformat": 4,
 "nbformat_minor": 0
}