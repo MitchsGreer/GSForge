{
 "cells": [
  {
   "cell_type": "markdown",
   "metadata": {},
   "source": [
    "**Why use a workflow?**\n",
    "\n",
    "Some feature selection methods -- like boruta -- do not produce stable output.\n",
    "Meaning the results for the same parameters can differ to some degree.\n",
    "We could fix the `random_state` to force the same results -- but more of interest is how well a chosen set of parameters performs.\n",
    "We could also increase the number of iterations that boruta is allowed to run, but this becomes memory intensive.\n",
    "A more facile solution is to repeat the same parameters with as many iterations as we can get away with.\n",
    "\n",
    "We then want to explore parameters, with repeats, and do so in a memory intensive way.\n",
    "Enter `nextflow`, a program that will streamline this process."
   ]
  },
  {
   "cell_type": "markdown",
   "metadata": {},
   "source": [
    "### An Example with `boruta_multiclass`\n",
    "\n",
    "The workflows are named based on the organization of the y, or target variable.\n",
    "These workflows essentially manage calls to `boruta_prospector`.\n",
    "\n",
    "The following must be provided to the workflow:\n",
    "+ A saved `AnnotatedGEM` or otherwise compatible netcdf file.\n",
    "+ A ranking model must be selected.\n",
    "+ A target variable must be provided.\n",
    "+ Any required to boruta and the ranking model.\n",
    "\n",
    "\n",
    "Consider this example `nextflow.config` file:\n",
    "```groovy\n",
    "// Singular data input and selection.\n",
    "params.gem_netcdf = \"~/GEMprospector_demo_data/osativa.nc\"\n",
    "params.x_label = \"counts\"\n",
    "params.y_label = [\"Treatment\", \"Genotype\", \"Subspecies\"]\n",
    "\n",
    "// Ranking model options.\n",
    "params.ranking_model = \"RandomForestClassifier\"\n",
    "params.ranking_model_opts.max_depth = [3]\n",
    "params.ranking_model_opts.n_jobs = [-1]\n",
    "\n",
    "// BorutaPy options.\n",
    "params.boruta_opts.perc = [100]\n",
    "params.boruta_opts.max_iter = [1000]\n",
    "\n",
    "// How often to repeat each set of arguments.\n",
    "params.repeats = 3\n",
    "\n",
    "// Output directory.\n",
    "params.out_dir = \"~/GEMprospector_demo_data/lineaments/\"\n",
    "```\n",
    "\n",
    "This can then be run via:\n",
    "\n",
    "```bash\n",
    "nextflow run <path/to/boruta_multiclass/main.nf> -c <path/to/nextflow.config>\n",
    "```\n",
    "\n",
    "We recommend running these feature selections using the prepared docker image:\n",
    "\n",
    "```bash\n",
    "nextflow run <path/to/boruta_multiclass/main.nf> -c <path/to/nextflow.config> -p docker\n",
    "```\n",
    "\n",
    "And the resulting lineament files should be stored in `\"~/GEMprospector_demo_data/lineaments/\"`."
   ]
  },
  {
   "cell_type": "markdown",
   "metadata": {},
   "source": [
    "***Notebook setup***"
   ]
  },
  {
   "cell_type": "code",
   "execution_count": null,
   "metadata": {
    "pycharm": {
     "is_executing": true
    }
   },
   "outputs": [],
   "source": [
    "import GEMprospector as gp\n",
    "from pathlib import Path\n",
    "import holoviews as hv\n",
    "hv.extension(\"bokeh\")"
   ]
  },
  {
   "cell_type": "markdown",
   "metadata": {},
   "source": [
    "***Declare used paths***"
   ]
  },
  {
   "cell_type": "code",
   "execution_count": 6,
   "metadata": {},
   "outputs": [],
   "source": [
    "ANNOTATED_GEM_PATH = \"~/GEMprospector_demo_data/osativa.nc\"\n",
    "LINEAMENT_DIR = \"~/GEMprospector_demo_data/workflow_lineaments/\""
   ]
  },
  {
   "cell_type": "markdown",
   "metadata": {},
   "source": [
    "*Ensure the target paths exist*"
   ]
  },
  {
   "cell_type": "code",
   "execution_count": 7,
   "metadata": {},
   "outputs": [],
   "source": [
    "assert Path(ANNOTATED_GEM_PATH).expanduser().exists() and Path(LINEAMENT_DIR).expanduser().exists()"
   ]
  },
  {
   "cell_type": "markdown",
   "metadata": {},
   "source": [
    "***Load the AnnotatedGEM***"
   ]
  },
  {
   "cell_type": "code",
   "execution_count": 8,
   "metadata": {},
   "outputs": [
    {
     "data": {
      "text/plain": [
       "<GEMprospector.AnnotatedGEM>\n",
       "Name: Oryza sativa\n",
       "Selected GEM Variable: 'counts'\n",
       "    Gene   55986\n",
       "    Sample 475"
      ]
     },
     "execution_count": 8,
     "metadata": {},
     "output_type": "execute_result"
    }
   ],
   "source": [
    "agem = gp.AnnotatedGEM(ANNOTATED_GEM_PATH, name=\"Oryza sativa\")\n",
    "agem"
   ]
  },
  {
   "cell_type": "markdown",
   "metadata": {},
   "source": [
    "### Examine the workflow output directory"
   ]
  },
  {
   "cell_type": "code",
   "execution_count": 9,
   "metadata": {},
   "outputs": [
    {
     "data": {
      "text/plain": [
       "[PosixPath('/home/tyler/GEMprospector_demo_data/workflow_lineaments/counts_v_Subspecies_119681.nc'),\n",
       " PosixPath('/home/tyler/GEMprospector_demo_data/workflow_lineaments/counts_v_Genotype_594c7a.nc'),\n",
       " PosixPath('/home/tyler/GEMprospector_demo_data/workflow_lineaments/counts_v_Subspecies_9f6d9a.nc'),\n",
       " PosixPath('/home/tyler/GEMprospector_demo_data/workflow_lineaments/counts_v_Genotype_f97661.nc'),\n",
       " PosixPath('/home/tyler/GEMprospector_demo_data/workflow_lineaments/counts_v_Subspecies_5cfd43.nc'),\n",
       " PosixPath('/home/tyler/GEMprospector_demo_data/workflow_lineaments/counts_v_Treatment_e1502b.nc'),\n",
       " PosixPath('/home/tyler/GEMprospector_demo_data/workflow_lineaments/counts_v_Treatment_e1f64c.nc'),\n",
       " PosixPath('/home/tyler/GEMprospector_demo_data/workflow_lineaments/counts_v_Treatment_a70735.nc'),\n",
       " PosixPath('/home/tyler/GEMprospector_demo_data/workflow_lineaments/counts_v_Genotype_2748d9.nc')]"
      ]
     },
     "execution_count": 9,
     "metadata": {},
     "output_type": "execute_result"
    }
   ],
   "source": [
    "list(Path(LINEAMENT_DIR).expanduser().resolve().glob(\"*.nc\"))"
   ]
  },
  {
   "cell_type": "markdown",
   "metadata": {},
   "source": [
    "Let's combine the replicates into a single lineament."
   ]
  },
  {
   "cell_type": "code",
   "execution_count": 10,
   "metadata": {},
   "outputs": [
    {
     "data": {
      "text/plain": [
       "<GEMprospector.GeneSetCollection>\n",
       "    <GEMprospector.AnnotatedGEM>\n",
       "    Name: Oryza sativa\n",
       "    Selected GEM Variable: 'counts'\n",
       "        Gene   55986\n",
       "        Sample 475\n",
       "GeneSet Keys and # of Selected Genes\n",
       "    Lineament01322: 1094\n",
       "    Lineament01323: 1077\n",
       "    Lineament01321: 1064"
      ]
     },
     "execution_count": 10,
     "metadata": {},
     "output_type": "execute_result"
    }
   ],
   "source": [
    "treatment_lcoll = gp.GeneSetCollection.from_folder(agem, LINEAMENT_DIR, \n",
    "                                                     name=\"Treatment\", \n",
    "                                                     glob_filter=\"*Treatment*.nc\")\n",
    "genotype_lcoll = gp.GeneSetCollection.from_folder(agem, LINEAMENT_DIR, \n",
    "                                                    name=\"Genotype\", \n",
    "                                                    glob_filter=\"*Genotype*.nc\")\n",
    "subspecies_lcoll = gp.GeneSetCollection.from_folder(agem, LINEAMENT_DIR, \n",
    "                                                      name=\"Subspecies\", \n",
    "                                                      glob_filter=\"*Subspecies*.nc\")\n",
    "\n",
    "treatment_lcoll"
   ]
  },
  {
   "cell_type": "markdown",
   "metadata": {},
   "source": [
    "***Combine the collections into their own lineaments:***"
   ]
  },
  {
   "cell_type": "markdown",
   "metadata": {},
   "source": [
    "*First get a copy of the attributes, since they are all replicates it doesn't matter which one.*"
   ]
  },
  {
   "cell_type": "code",
   "execution_count": 11,
   "metadata": {},
   "outputs": [],
   "source": [
    "subspecies_attrs = next(iter(subspecies_lcoll.lineaments.values())).data.attrs\n",
    "treatment_attrs = next(iter(treatment_lcoll.lineaments.values())).data.attrs\n",
    "genotype_attrs = next(iter(genotype_lcoll.lineaments.values())).data.attrs"
   ]
  },
  {
   "cell_type": "code",
   "execution_count": 12,
   "metadata": {},
   "outputs": [
    {
     "data": {
      "text/plain": [
       "<GEMprospector.GeneSetCollection>\n",
       "    <GEMprospector.AnnotatedGEM>\n",
       "    Name: Oryza sativa\n",
       "    Selected GEM Variable: 'counts'\n",
       "        Gene   55986\n",
       "        Sample 475\n",
       "GeneSet Keys and # of Selected Genes\n",
       "    Treatment: 1171\n",
       "    Genotype: 754\n",
       "    Subspecies: 312"
      ]
     },
     "execution_count": 12,
     "metadata": {},
     "output_type": "execute_result"
    }
   ],
   "source": [
    "lineaments = {\n",
    "    \"Subspecies\": gp.GeneSet.from_lineaments(subspecies_lcoll.lineaments.values(),\n",
    "                                               agem.gene_index,\n",
    "                                               name=\"Subspecies\", attrs=subspecies_attrs),\n",
    "    \"Treatment\": gp.GeneSet.from_lineaments(treatment_lcoll.lineaments.values(), agem.gene_index, \n",
    "                                              name=\"Treatment\", attrs=treatment_attrs),\n",
    "    \"Genotype\": gp.GeneSet.from_lineaments(genotype_lcoll.lineaments.values(), agem.gene_index,\n",
    "                                             name=\"Genotype\", attrs=genotype_attrs),\n",
    "}\n",
    "\n",
    "lcoll = gp.GeneSetCollection(gem=agem, lineaments=lineaments)\n",
    "lcoll"
   ]
  },
  {
   "cell_type": "code",
   "execution_count": 13,
   "metadata": {},
   "outputs": [
    {
     "name": "stdout",
     "output_type": "stream",
     "text": [
      "~/GEMprospector_demo_data/workflow_lineaments/Subspecies.nc\n",
      "~/GEMprospector_demo_data/workflow_lineaments/Treatment.nc\n",
      "~/GEMprospector_demo_data/workflow_lineaments/Genotype.nc\n"
     ]
    }
   ],
   "source": [
    "lcoll.save(LINEAMENT_DIR)"
   ]
  },
  {
   "cell_type": "markdown",
   "metadata": {},
   "source": [
    "---"
   ]
  }
 ],
 "metadata": {
  "kernelspec": {
   "display_name": "PyCharm (GeneProspector)",
   "language": "python",
   "name": "pycharm-a2e699d4"
  },
  "language_info": {
   "codemirror_mode": {
    "name": "ipython",
    "version": 3
   },
   "file_extension": ".py",
   "mimetype": "text/x-python",
   "name": "python",
   "nbconvert_exporter": "python",
   "pygments_lexer": "ipython3",
   "version": "3.7.3"
  },
  "nbsphinx": {
   "execute": "never"
  }
 },
 "nbformat": 4,
 "nbformat_minor": 4
}
