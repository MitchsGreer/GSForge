{
 "cells": [
  {
   "cell_type": "markdown",
   "metadata": {},
   "source": [
    "NCBI runs the Gene Expression Omnibus\n",
    "\n",
    "> GEO is a public functional genomics data repository supporting MIAME-compliant data submissions. Array- and sequence-based data are accepted. Tools are provided to help users query and download experiments and curated gene expression profiles. \n",
    "\n",
    "You can browse among the datasets available at the [GDSBrowser](https://www.ncbi.nlm.nih.gov/sites/GDSbrowser)."
   ]
  },
  {
   "cell_type": "code",
   "execution_count": 2,
   "metadata": {},
   "outputs": [],
   "source": [
    "import os\n",
    "import GSForge as gsf"
   ]
  },
  {
   "cell_type": "code",
   "execution_count": 3,
   "metadata": {},
   "outputs": [],
   "source": [
    "demo_dir = os.environ.get(\"GSFORGE_DEMO_DATA\", \"~/GSForge_demo_data\")"
   ]
  },
  {
   "cell_type": "code",
   "execution_count": 4,
   "metadata": {},
   "outputs": [
    {
     "name": "stderr",
     "output_type": "stream",
     "text": [
      "18-Dec-2019 12:15:05 INFO GEOparse - Downloading ftp://ftp.ncbi.nlm.nih.gov/geo/datasets/GDS2nnn/GDS2910/soft/GDS2910.soft.gz to ~/GSForge_demo_data/osfstorage/GDS2910.soft.gz\n",
      "18-Dec-2019 12:15:05 INFO utils - Downloading ftp://ftp.ncbi.nlm.nih.gov/geo/datasets/GDS2nnn/GDS2910/soft/GDS2910.soft.gz to ~/GSForge_demo_data/osfstorage/GDS2910.soft.gz\n"
     ]
    },
    {
     "name": "stdout",
     "output_type": "stream",
     "text": [
      "D: 100% -  8.6MiB  /  8.6MiB  eta 0:00:01\n"
     ]
    },
    {
     "name": "stderr",
     "output_type": "stream",
     "text": [
      "18-Dec-2019 12:15:08 INFO GEOparse - Parsing ~/GSForge_demo_data/osfstorage/GDS2910.soft.gz: \n",
      "18-Dec-2019 12:15:08 DEBUG GEOparse - DATABASE: Geo\n",
      "18-Dec-2019 12:15:08 DEBUG GEOparse - DATASET: GDS2910\n",
      "18-Dec-2019 12:15:08 DEBUG GEOparse - SUBSET: GDS2910_1\n",
      "18-Dec-2019 12:15:08 DEBUG GEOparse - SUBSET: GDS2910_2\n",
      "18-Dec-2019 12:15:08 DEBUG GEOparse - SUBSET: GDS2910_3\n",
      "18-Dec-2019 12:15:08 DEBUG GEOparse - SUBSET: GDS2910_4\n",
      "18-Dec-2019 12:15:08 DEBUG GEOparse - SUBSET: GDS2910_5\n",
      "18-Dec-2019 12:15:08 DEBUG GEOparse - SUBSET: GDS2910_6\n",
      "18-Dec-2019 12:15:08 DEBUG GEOparse - SUBSET: GDS2910_7\n",
      "18-Dec-2019 12:15:08 DEBUG GEOparse - SUBSET: GDS2910_8\n",
      "18-Dec-2019 12:15:08 DEBUG GEOparse - SUBSET: GDS2910_9\n",
      "18-Dec-2019 12:15:08 DEBUG GEOparse - SUBSET: GDS2910_10\n",
      "18-Dec-2019 12:15:08 DEBUG GEOparse - SUBSET: GDS2910_11\n",
      "18-Dec-2019 12:15:08 DEBUG GEOparse - SUBSET: GDS2910_12\n",
      "18-Dec-2019 12:15:08 DEBUG GEOparse - SUBSET: GDS2910_13\n",
      "18-Dec-2019 12:15:08 DEBUG GEOparse - SUBSET: GDS2910_14\n",
      "18-Dec-2019 12:15:08 DEBUG GEOparse - SUBSET: GDS2910_15\n",
      "18-Dec-2019 12:15:08 DEBUG GEOparse - SUBSET: GDS2910_16\n",
      "18-Dec-2019 12:15:08 DEBUG GEOparse - SUBSET: GDS2910_17\n",
      "18-Dec-2019 12:15:08 DEBUG GEOparse - SUBSET: GDS2910_18\n",
      "18-Dec-2019 12:15:08 DEBUG GEOparse - SUBSET: GDS2910_19\n",
      "18-Dec-2019 12:15:08 DEBUG GEOparse - SUBSET: GDS2910_20\n",
      "18-Dec-2019 12:15:08 DEBUG GEOparse - SUBSET: GDS2910_21\n",
      "18-Dec-2019 12:15:08 DEBUG GEOparse - DATASET: GDS2910\n"
     ]
    }
   ],
   "source": [
    "ds = gsf.utils.ncbi_geo.build_geo_xarray(\"GDS2910\", demo_dir)"
   ]
  },
  {
   "cell_type": "code",
   "execution_count": 4,
   "metadata": {},
   "outputs": [
    {
     "data": {
      "text/plain": [
       "<xarray.Dataset>\n",
       "Dimensions:      (Gene: 13056, Sample: 191)\n",
       "Coordinates:\n",
       "  * Sample       (Sample) object 'GSM76723' 'GSM76724' ... 'GSM76804' 'GSM76805'\n",
       "  * Gene         (Gene) object '1' '2' '3' '4' ... '13054' '13055' '13056'\n",
       "Data variables:\n",
       "    description  (Sample) object 'Value for GSM76723: S. cerevisiae Heat shock (37oC) 10 minutes; src: S. cerevisiae Heat shock (37oC) 10 minutes; src: S. cerevisiae grown in YPD at 30oC' ... 'Value for GSM76805: S. kudriavzevii, transfer from glucose to glycerol, 90 minutes; src: S. kudriavzevii, transfer from glucose to glycerol, 90 minutes; src: S. kudriavzevii grown in YPD at 24oC'\n",
       "    species      (Sample) object 'S. cerevisiae' ... 'S. kudriavzevii'\n",
       "    strain       (Sample) object '1' '1' '1' '1' '1' '1' ... '1' '1' '1' '1' '1'\n",
       "    stress       (Sample) object 'heat shock' ... 'growth on glycerol'\n",
       "    time         (Sample) object '10 min' '20 min' ... '65 min' '90 min'\n",
       "    counts       (Sample, Gene) float64 -0.7396 -0.04819 -0.9508 ... nan nan nan\n",
       "Attributes:\n",
       "    title:                     ['Interspecies variations in response to envir...\n",
       "    description:               ['Analysis of four closely related yeast speci...\n",
       "    type:                      ['Expression profiling by array']\n",
       "    pubmed_id:                 ['16783381']\n",
       "    platform:                  ['GPL2910']\n",
       "    platform_organism:         ['Saccharomyces cerevisiae']\n",
       "    platform_technology_type:  ['spotted DNA/cDNA']\n",
       "    feature_count:             ['13056']\n",
       "    sample_organism:           ['Saccharomyces cerevisiae', 'Saccharomyces pa...\n",
       "    sample_type:               ['RNA']\n",
       "    channel_count:             ['2']\n",
       "    sample_count:              ['191']\n",
       "    value_type:                ['log2 ratio']\n",
       "    reference_series:          ['GSE3406']\n",
       "    order:                     ['none']\n",
       "    update_date:               ['Sep 15 2009']"
      ]
     },
     "execution_count": 4,
     "metadata": {},
     "output_type": "execute_result"
    }
   ],
   "source": [
    "ds"
   ]
  },
  {
   "cell_type": "code",
   "execution_count": 4,
   "metadata": {},
   "outputs": [
    {
     "data": {
      "text/plain": [
       "<GSForge.AnnotatedGEM>\n",
       "Name: GDS2910\n",
       "Selected GEM Variable: 'counts'\n",
       "    Gene   13056\n",
       "    Sample 191"
      ]
     },
     "execution_count": 4,
     "metadata": {},
     "output_type": "execute_result"
    }
   ],
   "source": [
    "agem = gsf.AnnotatedGEM(ds, name=\"GDS2910\")\n",
    "agem"
   ]
  },
  {
   "cell_type": "markdown",
   "metadata": {},
   "source": [
    "---"
   ]
  }
 ],
 "metadata": {
  "kernelspec": {
   "display_name": "Python (base)",
   "language": "python",
   "name": "python3"
  },
  "language_info": {
   "codemirror_mode": {
    "name": "ipython",
    "version": 3
   },
   "file_extension": ".py",
   "mimetype": "text/x-python",
   "name": "python",
   "nbconvert_exporter": "python",
   "pygments_lexer": "ipython3",
   "version": "3.7.3"
  },
  "pycharm": {
   "stem_cell": {
    "cell_type": "raw",
    "metadata": {
     "collapsed": false
    },
    "source": []
   }
  }
 },
 "nbformat": 4,
 "nbformat_minor": 4
}
