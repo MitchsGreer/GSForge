{
 "cells": [
  {
   "cell_type": "markdown",
   "metadata": {
    "collapsed": true,
    "pycharm": {
     "name": "#%% md\n"
    }
   },
   "source": [
    "*On normalizing gene expression matrices.*\n",
    "\n",
    "> What normalization method should I use for my gene expression matrix?\n",
    "\n",
    "Case dependency prevents giving one answer; if I had to naively pick -- a quantile normalization.\n",
    "\n",
    "**Why normalize?**\n",
    "\n",
    "There are several purposes to normalization:\n",
    "+ To mitigate effects of systemic error or noise.\n",
    "+ To 'standardize' the data for machine learning estimators.\n",
    "\n",
    "In the case of RNA-sequencing data (after processing) we end up with raw read count data.\n",
    "There are a number of factors that can effect that raw count value:\n",
    "+ *coverage* or *sequencing depth* of the experiment. This describes the average number of reads that\n",
    "cover (align to) known reference bases.\n",
    "+ gene properties such as length, and 'GC-content' (guanine-cytosine). Heavier and longer genes can take longer to\n",
    "replicate.\n",
    "\n",
    "## History through micro-Arrays\n",
    "\n",
    "### Coverage\n",
    "\n",
    "### Library size\n",
    "\n",
    "### Distribution based\n",
    "\n",
    "### Controls\n"
   ]
  },
  {
   "cell_type": "markdown",
   "metadata": {},
   "source": [
    "#### References\n",
    "\n",
    "[*A comprehensive evaluation of normalization methods for Illumina high-throughput RNA sequencing data analysis*\n",
    "](doi:10.1093/bib/bbs046)\n"
   ]
  }
 ],
 "metadata": {
  "kernelspec": {
   "display_name": "Python (base)",
   "language": "python",
   "name": "python3"
  },
  "language_info": {
   "codemirror_mode": {
    "name": "ipython",
    "version": 3
   },
   "file_extension": ".py",
   "mimetype": "text/x-python",
   "name": "python",
   "nbconvert_exporter": "python",
   "pygments_lexer": "ipython3",
   "version": "3.7.3"
  },
  "pycharm": {
   "stem_cell": {
    "cell_type": "raw",
    "metadata": {
     "collapsed": false
    },
    "source": []
   }
  }
 },
 "nbformat": 4,
 "nbformat_minor": 1
}
