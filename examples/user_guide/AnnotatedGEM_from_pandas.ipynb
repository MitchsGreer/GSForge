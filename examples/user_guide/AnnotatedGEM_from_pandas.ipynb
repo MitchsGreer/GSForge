{
 "cells": [
  {
   "cell_type": "markdown",
   "metadata": {},
   "source": [
    "# Creating a GSForge.AnnotatedGEM from Text Data\n",
    "\n",
    "This notebook describes how to create and save an `AnnotatedGEM` object from separate count and label text files.\n",
    "\n",
    "A count matrix and an annotation table are often created as separate text files.\n",
    "The count matrix is often formatted with samples as columns and genes as rows due to the way counts are calculated.\n",
    "An annotation file must have a matching 'sample' index to the count file.\n",
    "\n"
   ]
  },
  {
   "cell_type": "markdown",
   "metadata": {},
   "source": [
    "***Downloading the demo data***\n",
    "\n",
    "A demo gene expression matrix and accompanying annotation text files are stored in a public [OSF]() project.\n",
    "You can download them by:\n",
    "+ Navigating to the [data repository on osf](https://osf.io/t3xpw/) and manually download them.\n",
    "\n",
    "or\n",
    "\n",
    "+ Installing the [OSF CLI utility](https://osfclient.readthedocs.io/en/latest/index.html) and clone to a directory:\n",
    "    ```bash\n",
    "    osf -p t3xpw clone ~/GSForge_demo_data\n",
    "    ```\n",
    "    \n",
    "The paths used in this example assume the second method was used."
   ]
  },
  {
   "cell_type": "markdown",
   "metadata": {},
   "source": [
    "***Declaring used paths***"
   ]
  },
  {
   "cell_type": "code",
   "execution_count": 1,
   "metadata": {
    "collapsed": false,
    "jupyter": {
     "outputs_hidden": false
    },
    "pycharm": {
     "is_executing": false,
     "name": "#%%\n"
    }
   },
   "outputs": [],
   "source": [
    "# OS-independent path management.\n",
    "from os import fspath, environ\n",
    "from pathlib import Path"
   ]
  },
  {
   "cell_type": "markdown",
   "metadata": {},
   "source": [
    "Declare the OSF project directory path."
   ]
  },
  {
   "cell_type": "code",
   "execution_count": 3,
   "metadata": {},
   "outputs": [
    {
     "data": {
      "text/plain": [
       "PosixPath('/home/tyler/GSForge_demo_data')"
      ]
     },
     "execution_count": 3,
     "metadata": {},
     "output_type": "execute_result"
    }
   ],
   "source": [
    "OSF_PATH = Path(environ.get(\"GSFORGE_DEMO_DATA\", default=\"~/GSForge_demo_data\")).expanduser()\n",
    "OSF_PATH"
   ]
  },
  {
   "cell_type": "markdown",
   "metadata": {},
   "source": [
    "View the files within:"
   ]
  },
  {
   "cell_type": "code",
   "execution_count": 4,
   "metadata": {},
   "outputs": [
    {
     "data": {
      "text/plain": [
       "[PosixPath('/home/tyler/GSForge_demo_data/osfstorage'),\n",
       " PosixPath('/home/tyler/GSForge_demo_data/osfstorage/rice_PRJNA385135_salt.GEM.FPKM.txt'),\n",
       " PosixPath('/home/tyler/GSForge_demo_data/osfstorage/rice_annotations.csv')]"
      ]
     },
     "execution_count": 4,
     "metadata": {},
     "output_type": "execute_result"
    }
   ],
   "source": [
    "list(OSF_PATH.glob(\"**/*\"))"
   ]
  },
  {
   "cell_type": "markdown",
   "metadata": {},
   "source": [
    "Declare the paths to the count and label files."
   ]
  },
  {
   "cell_type": "code",
   "execution_count": 32,
   "metadata": {},
   "outputs": [],
   "source": [
    "COUNT_PATH = OSF_PATH.joinpath(\"osfstorage\", \"rice_PRJNA385135_salt.GEM.FPKM.txt\")\n",
    "LABEL_PATH = OSF_PATH.joinpath(\"osfstorage\", \"rice_annotations.csv\")\n",
    "AGEM_PATH = OSF_PATH.joinpath(\"osfstorage\", \"rice.nc\")"
   ]
  },
  {
   "cell_type": "markdown",
   "metadata": {},
   "source": [
    "Ensure these files exsist."
   ]
  },
  {
   "cell_type": "code",
   "execution_count": 6,
   "metadata": {},
   "outputs": [],
   "source": [
    "assert COUNT_PATH.exists()\n",
    "assert LABEL_PATH.exists()"
   ]
  },
  {
   "cell_type": "markdown",
   "metadata": {},
   "source": [
    "---"
   ]
  },
  {
   "cell_type": "markdown",
   "metadata": {},
   "source": [
    "***Preparing the notebook***"
   ]
  },
  {
   "cell_type": "code",
   "execution_count": 7,
   "metadata": {
    "collapsed": false,
    "jupyter": {
     "outputs_hidden": false
    },
    "pycharm": {
     "is_executing": false,
     "name": "#%%\n"
    }
   },
   "outputs": [],
   "source": [
    "import pandas as pd\n",
    "import GSForge as gsf"
   ]
  },
  {
   "cell_type": "markdown",
   "metadata": {},
   "source": [
    "### Loading data with `pandas`"
   ]
  },
  {
   "cell_type": "markdown",
   "metadata": {},
   "source": [
    "***Loading the count matrix***"
   ]
  },
  {
   "cell_type": "code",
   "execution_count": 9,
   "metadata": {},
   "outputs": [
    {
     "name": "stdout",
     "output_type": "stream",
     "text": [
      "CPU times: user 3.17 s, sys: 284 ms, total: 3.45 s\n",
      "Wall time: 3.45 s\n"
     ]
    }
   ],
   "source": [
    "%%time\n",
    "count_df = pd.read_csv(COUNT_PATH, sep=\"\\t\", index_col=0)"
   ]
  },
  {
   "cell_type": "code",
   "execution_count": 10,
   "metadata": {},
   "outputs": [
    {
     "data": {
      "text/html": [
       "<div>\n",
       "<style scoped>\n",
       "    .dataframe tbody tr th:only-of-type {\n",
       "        vertical-align: middle;\n",
       "    }\n",
       "\n",
       "    .dataframe tbody tr th {\n",
       "        vertical-align: top;\n",
       "    }\n",
       "\n",
       "    .dataframe thead th {\n",
       "        text-align: right;\n",
       "    }\n",
       "</style>\n",
       "<table border=\"1\" class=\"dataframe\">\n",
       "  <thead>\n",
       "    <tr style=\"text-align: right;\">\n",
       "      <th></th>\n",
       "      <th>SRX2776263</th>\n",
       "      <th>SRX2776295</th>\n",
       "      <th>SRX2776363</th>\n",
       "      <th>SRX2776365</th>\n",
       "      <th>SRX2776356</th>\n",
       "      <th>SRX2776371</th>\n",
       "      <th>SRX2776358</th>\n",
       "      <th>SRX2776360</th>\n",
       "      <th>SRX2776359</th>\n",
       "      <th>SRX2776370</th>\n",
       "      <th>...</th>\n",
       "      <th>SRX2776313</th>\n",
       "      <th>SRX2776318</th>\n",
       "      <th>SRX2776307</th>\n",
       "      <th>SRX2776320</th>\n",
       "      <th>SRX2776308</th>\n",
       "      <th>SRX2776298</th>\n",
       "      <th>SRX2776300</th>\n",
       "      <th>SRX2776305</th>\n",
       "      <th>SRX2776312</th>\n",
       "      <th>SRX2776319</th>\n",
       "    </tr>\n",
       "  </thead>\n",
       "  <tbody>\n",
       "    <tr>\n",
       "      <td>LOC_Os01g01010</td>\n",
       "      <td>11.319679</td>\n",
       "      <td>8.365713</td>\n",
       "      <td>7.707072</td>\n",
       "      <td>7.815566</td>\n",
       "      <td>10.529035</td>\n",
       "      <td>14.150313</td>\n",
       "      <td>15.708982</td>\n",
       "      <td>18.614389</td>\n",
       "      <td>16.841938</td>\n",
       "      <td>13.563243</td>\n",
       "      <td>...</td>\n",
       "      <td>8.814540</td>\n",
       "      <td>9.001955</td>\n",
       "      <td>10.926337</td>\n",
       "      <td>8.710381</td>\n",
       "      <td>13.804740</td>\n",
       "      <td>10.987262</td>\n",
       "      <td>14.087475</td>\n",
       "      <td>8.792207</td>\n",
       "      <td>12.102121</td>\n",
       "      <td>11.336815</td>\n",
       "    </tr>\n",
       "    <tr>\n",
       "      <td>LOC_Os01g01019</td>\n",
       "      <td>1.239880</td>\n",
       "      <td>1.169013</td>\n",
       "      <td>1.904225</td>\n",
       "      <td>1.291243</td>\n",
       "      <td>1.431940</td>\n",
       "      <td>1.605496</td>\n",
       "      <td>0.291904</td>\n",
       "      <td>0.000000</td>\n",
       "      <td>0.245943</td>\n",
       "      <td>1.350280</td>\n",
       "      <td>...</td>\n",
       "      <td>0.315189</td>\n",
       "      <td>1.345944</td>\n",
       "      <td>0.000000</td>\n",
       "      <td>0.674577</td>\n",
       "      <td>0.000000</td>\n",
       "      <td>1.676842</td>\n",
       "      <td>1.420893</td>\n",
       "      <td>2.285043</td>\n",
       "      <td>0.411098</td>\n",
       "      <td>1.411578</td>\n",
       "    </tr>\n",
       "    <tr>\n",
       "      <td>LOC_Os01g01030</td>\n",
       "      <td>3.038393</td>\n",
       "      <td>3.126105</td>\n",
       "      <td>3.713148</td>\n",
       "      <td>4.377853</td>\n",
       "      <td>4.378384</td>\n",
       "      <td>2.242388</td>\n",
       "      <td>2.242876</td>\n",
       "      <td>1.953802</td>\n",
       "      <td>0.972326</td>\n",
       "      <td>1.136529</td>\n",
       "      <td>...</td>\n",
       "      <td>4.389473</td>\n",
       "      <td>4.198297</td>\n",
       "      <td>4.894191</td>\n",
       "      <td>4.802093</td>\n",
       "      <td>1.974933</td>\n",
       "      <td>5.032101</td>\n",
       "      <td>5.180510</td>\n",
       "      <td>3.479917</td>\n",
       "      <td>1.231503</td>\n",
       "      <td>4.758714</td>\n",
       "    </tr>\n",
       "    <tr>\n",
       "      <td>LOC_Os01g01040</td>\n",
       "      <td>12.806965</td>\n",
       "      <td>11.518446</td>\n",
       "      <td>11.542926</td>\n",
       "      <td>12.720500</td>\n",
       "      <td>17.630440</td>\n",
       "      <td>11.576320</td>\n",
       "      <td>14.012661</td>\n",
       "      <td>13.156128</td>\n",
       "      <td>10.993877</td>\n",
       "      <td>8.153295</td>\n",
       "      <td>...</td>\n",
       "      <td>6.604340</td>\n",
       "      <td>11.942759</td>\n",
       "      <td>11.879583</td>\n",
       "      <td>10.957371</td>\n",
       "      <td>14.052650</td>\n",
       "      <td>15.094474</td>\n",
       "      <td>15.403028</td>\n",
       "      <td>10.148459</td>\n",
       "      <td>13.708680</td>\n",
       "      <td>13.684376</td>\n",
       "    </tr>\n",
       "    <tr>\n",
       "      <td>LOC_Os01g01050</td>\n",
       "      <td>8.393680</td>\n",
       "      <td>4.518756</td>\n",
       "      <td>5.226342</td>\n",
       "      <td>5.784232</td>\n",
       "      <td>7.859654</td>\n",
       "      <td>7.358202</td>\n",
       "      <td>8.218661</td>\n",
       "      <td>6.687577</td>\n",
       "      <td>7.577455</td>\n",
       "      <td>8.084127</td>\n",
       "      <td>...</td>\n",
       "      <td>5.292066</td>\n",
       "      <td>6.102956</td>\n",
       "      <td>7.374552</td>\n",
       "      <td>6.512951</td>\n",
       "      <td>11.378443</td>\n",
       "      <td>9.839329</td>\n",
       "      <td>11.605671</td>\n",
       "      <td>5.666173</td>\n",
       "      <td>9.372606</td>\n",
       "      <td>8.342855</td>\n",
       "    </tr>\n",
       "  </tbody>\n",
       "</table>\n",
       "<p>5 rows × 368 columns</p>\n",
       "</div>"
      ],
      "text/plain": [
       "                SRX2776263  SRX2776295  SRX2776363  SRX2776365  SRX2776356  \\\n",
       "LOC_Os01g01010   11.319679    8.365713    7.707072    7.815566   10.529035   \n",
       "LOC_Os01g01019    1.239880    1.169013    1.904225    1.291243    1.431940   \n",
       "LOC_Os01g01030    3.038393    3.126105    3.713148    4.377853    4.378384   \n",
       "LOC_Os01g01040   12.806965   11.518446   11.542926   12.720500   17.630440   \n",
       "LOC_Os01g01050    8.393680    4.518756    5.226342    5.784232    7.859654   \n",
       "\n",
       "                SRX2776371  SRX2776358  SRX2776360  SRX2776359  SRX2776370  \\\n",
       "LOC_Os01g01010   14.150313   15.708982   18.614389   16.841938   13.563243   \n",
       "LOC_Os01g01019    1.605496    0.291904    0.000000    0.245943    1.350280   \n",
       "LOC_Os01g01030    2.242388    2.242876    1.953802    0.972326    1.136529   \n",
       "LOC_Os01g01040   11.576320   14.012661   13.156128   10.993877    8.153295   \n",
       "LOC_Os01g01050    7.358202    8.218661    6.687577    7.577455    8.084127   \n",
       "\n",
       "                ...  SRX2776313  SRX2776318  SRX2776307  SRX2776320  \\\n",
       "LOC_Os01g01010  ...    8.814540    9.001955   10.926337    8.710381   \n",
       "LOC_Os01g01019  ...    0.315189    1.345944    0.000000    0.674577   \n",
       "LOC_Os01g01030  ...    4.389473    4.198297    4.894191    4.802093   \n",
       "LOC_Os01g01040  ...    6.604340   11.942759   11.879583   10.957371   \n",
       "LOC_Os01g01050  ...    5.292066    6.102956    7.374552    6.512951   \n",
       "\n",
       "                SRX2776308  SRX2776298  SRX2776300  SRX2776305  SRX2776312  \\\n",
       "LOC_Os01g01010   13.804740   10.987262   14.087475    8.792207   12.102121   \n",
       "LOC_Os01g01019    0.000000    1.676842    1.420893    2.285043    0.411098   \n",
       "LOC_Os01g01030    1.974933    5.032101    5.180510    3.479917    1.231503   \n",
       "LOC_Os01g01040   14.052650   15.094474   15.403028   10.148459   13.708680   \n",
       "LOC_Os01g01050   11.378443    9.839329   11.605671    5.666173    9.372606   \n",
       "\n",
       "                SRX2776319  \n",
       "LOC_Os01g01010   11.336815  \n",
       "LOC_Os01g01019    1.411578  \n",
       "LOC_Os01g01030    4.758714  \n",
       "LOC_Os01g01040   13.684376  \n",
       "LOC_Os01g01050    8.342855  \n",
       "\n",
       "[5 rows x 368 columns]"
      ]
     },
     "execution_count": 10,
     "metadata": {},
     "output_type": "execute_result"
    }
   ],
   "source": [
    "count_df.head()"
   ]
  },
  {
   "cell_type": "markdown",
   "metadata": {},
   "source": [
    "***Loading the annotation table***"
   ]
  },
  {
   "cell_type": "code",
   "execution_count": 22,
   "metadata": {},
   "outputs": [
    {
     "name": "stdout",
     "output_type": "stream",
     "text": [
      "CPU times: user 7.69 ms, sys: 0 ns, total: 7.69 ms\n",
      "Wall time: 6.53 ms\n"
     ]
    }
   ],
   "source": [
    "%%time\n",
    "label_df = pd.read_csv(LABEL_PATH, index_col=0)"
   ]
  },
  {
   "cell_type": "code",
   "execution_count": 23,
   "metadata": {},
   "outputs": [
    {
     "data": {
      "text/html": [
       "<div>\n",
       "<style scoped>\n",
       "    .dataframe tbody tr th:only-of-type {\n",
       "        vertical-align: middle;\n",
       "    }\n",
       "\n",
       "    .dataframe tbody tr th {\n",
       "        vertical-align: top;\n",
       "    }\n",
       "\n",
       "    .dataframe thead th {\n",
       "        text-align: right;\n",
       "    }\n",
       "</style>\n",
       "<table border=\"1\" class=\"dataframe\">\n",
       "  <thead>\n",
       "    <tr style=\"text-align: right;\">\n",
       "      <th></th>\n",
       "      <th>sra_id</th>\n",
       "      <th>experiment</th>\n",
       "      <th>genotype</th>\n",
       "      <th>treatment</th>\n",
       "      <th>rep</th>\n",
       "      <th>NSFTV_ID</th>\n",
       "    </tr>\n",
       "  </thead>\n",
       "  <tbody>\n",
       "    <tr>\n",
       "      <td>0</td>\n",
       "      <td>SRX2776453</td>\n",
       "      <td>GSM2596760</td>\n",
       "      <td>9</td>\n",
       "      <td>salt-stress</td>\n",
       "      <td>rep2</td>\n",
       "      <td>NSFTV_9</td>\n",
       "    </tr>\n",
       "    <tr>\n",
       "      <td>1</td>\n",
       "      <td>SRX2776452</td>\n",
       "      <td>GSM2596759</td>\n",
       "      <td>9</td>\n",
       "      <td>salt-stress</td>\n",
       "      <td>rep1</td>\n",
       "      <td>NSFTV_9</td>\n",
       "    </tr>\n",
       "    <tr>\n",
       "      <td>2</td>\n",
       "      <td>SRX2776451</td>\n",
       "      <td>GSM2596758</td>\n",
       "      <td>9</td>\n",
       "      <td>control</td>\n",
       "      <td>rep2</td>\n",
       "      <td>NSFTV_9</td>\n",
       "    </tr>\n",
       "    <tr>\n",
       "      <td>3</td>\n",
       "      <td>SRX2776450</td>\n",
       "      <td>GSM2596757</td>\n",
       "      <td>9</td>\n",
       "      <td>control</td>\n",
       "      <td>rep1</td>\n",
       "      <td>NSFTV_9</td>\n",
       "    </tr>\n",
       "    <tr>\n",
       "      <td>4</td>\n",
       "      <td>SRX2776449</td>\n",
       "      <td>GSM2596756</td>\n",
       "      <td>91</td>\n",
       "      <td>salt-stress</td>\n",
       "      <td>rep2</td>\n",
       "      <td>NSFTV_91</td>\n",
       "    </tr>\n",
       "  </tbody>\n",
       "</table>\n",
       "</div>"
      ],
      "text/plain": [
       "       sra_id  experiment  genotype    treatment   rep  NSFTV_ID\n",
       "0  SRX2776453  GSM2596760         9  salt-stress  rep2   NSFTV_9\n",
       "1  SRX2776452  GSM2596759         9  salt-stress  rep1   NSFTV_9\n",
       "2  SRX2776451  GSM2596758         9      control  rep2   NSFTV_9\n",
       "3  SRX2776450  GSM2596757         9      control  rep1   NSFTV_9\n",
       "4  SRX2776449  GSM2596756        91  salt-stress  rep2  NSFTV_91"
      ]
     },
     "execution_count": 23,
     "metadata": {},
     "output_type": "execute_result"
    }
   ],
   "source": [
    "label_df.head()"
   ]
  },
  {
   "cell_type": "markdown",
   "metadata": {},
   "source": [
    "***Ensure sample indexes overlap***"
   ]
  },
  {
   "cell_type": "code",
   "execution_count": 24,
   "metadata": {},
   "outputs": [
    {
     "data": {
      "text/html": [
       "<div>\n",
       "<style scoped>\n",
       "    .dataframe tbody tr th:only-of-type {\n",
       "        vertical-align: middle;\n",
       "    }\n",
       "\n",
       "    .dataframe tbody tr th {\n",
       "        vertical-align: top;\n",
       "    }\n",
       "\n",
       "    .dataframe thead th {\n",
       "        text-align: right;\n",
       "    }\n",
       "</style>\n",
       "<table border=\"1\" class=\"dataframe\">\n",
       "  <thead>\n",
       "    <tr style=\"text-align: right;\">\n",
       "      <th></th>\n",
       "      <th>experiment</th>\n",
       "      <th>genotype</th>\n",
       "      <th>treatment</th>\n",
       "      <th>rep</th>\n",
       "      <th>NSFTV_ID</th>\n",
       "    </tr>\n",
       "    <tr>\n",
       "      <th>sra_id</th>\n",
       "      <th></th>\n",
       "      <th></th>\n",
       "      <th></th>\n",
       "      <th></th>\n",
       "      <th></th>\n",
       "    </tr>\n",
       "  </thead>\n",
       "  <tbody>\n",
       "    <tr>\n",
       "      <td>SRX2776453</td>\n",
       "      <td>GSM2596760</td>\n",
       "      <td>9</td>\n",
       "      <td>salt-stress</td>\n",
       "      <td>rep2</td>\n",
       "      <td>NSFTV_9</td>\n",
       "    </tr>\n",
       "    <tr>\n",
       "      <td>SRX2776452</td>\n",
       "      <td>GSM2596759</td>\n",
       "      <td>9</td>\n",
       "      <td>salt-stress</td>\n",
       "      <td>rep1</td>\n",
       "      <td>NSFTV_9</td>\n",
       "    </tr>\n",
       "  </tbody>\n",
       "</table>\n",
       "</div>"
      ],
      "text/plain": [
       "            experiment  genotype    treatment   rep NSFTV_ID\n",
       "sra_id                                                      \n",
       "SRX2776453  GSM2596760         9  salt-stress  rep2  NSFTV_9\n",
       "SRX2776452  GSM2596759         9  salt-stress  rep1  NSFTV_9"
      ]
     },
     "execution_count": 24,
     "metadata": {},
     "output_type": "execute_result"
    }
   ],
   "source": [
    "label_df = label_df.set_index(\"sra_id\", drop=True)\n",
    "label_df.head(2)"
   ]
  },
  {
   "cell_type": "markdown",
   "metadata": {},
   "source": [
    "Check that the number of samples is the same in both files, and that their overlap is that same length."
   ]
  },
  {
   "cell_type": "code",
   "execution_count": 27,
   "metadata": {},
   "outputs": [],
   "source": [
    "assert len(count_df.columns) == len(label_df.index) == len(label_df.index.intersection(count_df.columns))"
   ]
  },
  {
   "cell_type": "markdown",
   "metadata": {},
   "source": [
    "### Combine the dataframes into an AnnotatedGEM:\n",
    "\n",
    "`AnnotatedGEM.from_pandas` does a bit of data wrangling, and loads the data into a single `xarray.Dataset`."
   ]
  },
  {
   "cell_type": "code",
   "execution_count": 28,
   "metadata": {},
   "outputs": [
    {
     "data": {
      "text/plain": [
       "<GSForge.AnnotatedGEM>\n",
       "Name: Rice\n",
       "Selected GEM Variable: 'counts'\n",
       "    Gene   55986\n",
       "    Sample 368"
      ]
     },
     "execution_count": 28,
     "metadata": {},
     "output_type": "execute_result"
    }
   ],
   "source": [
    "agem = gsf.AnnotatedGEM.from_pandas(count_df=count_df, label_df=label_df, name=\"Rice\")\n",
    "agem"
   ]
  },
  {
   "cell_type": "markdown",
   "metadata": {},
   "source": [
    "***Examine the data***"
   ]
  },
  {
   "cell_type": "code",
   "execution_count": 29,
   "metadata": {},
   "outputs": [
    {
     "data": {
      "text/plain": [
       "<xarray.Dataset>\n",
       "Dimensions:     (Gene: 55986, Sample: 368)\n",
       "Coordinates:\n",
       "  * Sample      (Sample) object 'SRX2776086' 'SRX2776087' ... 'SRX2776453'\n",
       "  * Gene        (Gene) object 'LOC_Os01g01010' ... 'ChrUn.fgenesh.gene.66'\n",
       "Data variables:\n",
       "    experiment  (Sample) object 'GSM2596381' 'GSM2596382' ... 'GSM2596760'\n",
       "    genotype    (Sample) int64 101 101 101 101 105 105 105 ... 91 91 91 9 9 9 9\n",
       "    treatment   (Sample) object 'control' 'control' ... 'salt-stress'\n",
       "    rep         (Sample) object 'rep1' 'rep2' 'rep1' ... 'rep2' 'rep1' 'rep2'\n",
       "    NSFTV_ID    (Sample) object 'NSFTV_101' 'NSFTV_101' ... 'NSFTV_9' 'NSFTV_9'\n",
       "    counts      (Sample, Gene) float64 8.477 1.464 5.351 12.91 ... 0.0 0.0 0.0"
      ]
     },
     "execution_count": 29,
     "metadata": {},
     "output_type": "execute_result"
    }
   ],
   "source": [
    "agem.data"
   ]
  },
  {
   "cell_type": "markdown",
   "metadata": {},
   "source": [
    "### Save the `AnnotatedGEM`"
   ]
  },
  {
   "cell_type": "code",
   "execution_count": 33,
   "metadata": {},
   "outputs": [
    {
     "data": {
      "text/plain": [
       "PosixPath('/home/tyler/GSForge_demo_data/osfstorage/rice.nc')"
      ]
     },
     "execution_count": 33,
     "metadata": {},
     "output_type": "execute_result"
    }
   ],
   "source": [
    "agem.save(AGEM_PATH)"
   ]
  },
  {
   "cell_type": "markdown",
   "metadata": {},
   "source": [
    "---"
   ]
  }
 ],
 "metadata": {
  "kernelspec": {
   "display_name": "Python (base)",
   "language": "python",
   "name": "python3"
  },
  "language_info": {
   "codemirror_mode": {
    "name": "ipython",
    "version": 3
   },
   "file_extension": ".py",
   "mimetype": "text/x-python",
   "name": "python",
   "nbconvert_exporter": "python",
   "pygments_lexer": "ipython3",
   "version": "3.7.3"
  },
  "pycharm": {
   "stem_cell": {
    "cell_type": "raw",
    "metadata": {
     "collapsed": false
    },
    "source": []
   }
  }
 },
 "nbformat": 4,
 "nbformat_minor": 4
}
